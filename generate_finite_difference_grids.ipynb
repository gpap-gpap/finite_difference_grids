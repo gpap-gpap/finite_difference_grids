{
 "cells": [
  {
   "cell_type": "markdown",
   "metadata": {},
   "source": [
    "### Main imports"
   ]
  },
  {
   "cell_type": "code",
   "execution_count": 21,
   "metadata": {},
   "outputs": [
    {
     "name": "stdout",
     "output_type": "stream",
     "text": [
      "The autoreload extension is already loaded. To reload it, use:\n",
      "  %reload_ext autoreload\n"
     ]
    }
   ],
   "source": [
    "%load_ext autoreload\n",
    "%autoreload 2\n",
    "import numpy as np\n",
    "import matplotlib.pyplot as plt\n",
    "import mantis.rock_physics as manRP"
   ]
  },
  {
   "cell_type": "markdown",
   "metadata": {},
   "source": [
    "### Class for exporting grids"
   ]
  },
  {
   "cell_type": "code",
   "execution_count": 53,
   "metadata": {},
   "outputs": [],
   "source": [
    "from __future__ import annotations\n",
    "from typing import Callable\n",
    "import os\n",
    "class FiniteDifferenceGridFromRockPhysicsModels:\n",
    "    \"\"\"\n",
    "    Generates binary grids for finite difference modelling\n",
    "\n",
    "    Generates binary grids for finite difference modelling from a dictionary of rock physics models and a dictionary of well inputs\n",
    "    \n",
    "    \"\"\"\n",
    "    indices = {\n",
    "        \"a11\":(0,0),\n",
    "        \"a33\":(2,2),\n",
    "        \"a13\":(0,2),\n",
    "        \"a55\":(4,4),\n",
    "        \"a15\":(0,4),\n",
    "        \"a35\":(2,4),\n",
    "        \"a66\":(5,5),\n",
    "        \"a44\":(3,3),\n",
    "        \"a64\":(5,3)\n",
    "}\n",
    "    def __init__(self, *, well_input:dict, mod_dictionary:dict, label:str=\"\"):\n",
    "        \"\"\"\n",
    "        Instantiates a FiniteDifferenceGridFromRockPhysicsModels object for generating binary grids for finite difference modelling\n",
    "\n",
    "        Args:\n",
    "            well_input (dict): well inputs in the form: {layer_number:{\"Top Depth\": 0, \"Vp\": 2., \"Vs\": 1., \"Rho\": 2.} ...}\n",
    "            mod_dictionary (dict): model input in the form {layer_number:{\"model\": model_id, \"parameters\": {\"parameter1\": value1, \"parameter2\": value2} ...} ...}}}\n",
    "                    where `model_id` is an identifier for a rock physics model in the model library and `parameteri` are parameters for the model\n",
    "            label (str, optional): a label for the model which is used in file exports. If no label is given (default) the binary grids are written in ./_output folder. Defaults to \"\".\n",
    "\n",
    "        Raises:\n",
    "            ValueError: _description_\n",
    "            KeyError: _description_\n",
    "        \"\"\"\n",
    "        self.well_input = dict(sorted(well_input.items(), key=lambda item: item[1][\"Top Depth\"]))\n",
    "        self.model_dictionary = mod_dictionary\n",
    "        if well_input.keys() != mod_dictionary.keys():\n",
    "            raise ValueError(\"well_input and mod_dictionary must have the same layer keys\")\n",
    "        self._model_list = None\n",
    "        self._grid_data = None\n",
    "        self._grid_metadata = None\n",
    "        self.label = label\n",
    "        self.depth_list, self.vp_list, self.vs_list, self.rho_list = self.create_vp_vs_rho_list\n",
    "    \n",
    "    @property\n",
    "    def create_vp_vs_rho_list(self) -> tuple:\n",
    "        depth_list = []\n",
    "        vp_list = []\n",
    "        vs_list = []\n",
    "        rho_list = []\n",
    "        for key, val in self.well_input.items():\n",
    "            try:\n",
    "                depth_list.append(val[\"Top Depth\"])\n",
    "            except:\n",
    "                KeyError(\"`Top Depth` key not found\")\n",
    "            try:\n",
    "                vp_list.append(val[\"Vp\"])\n",
    "            except:\n",
    "                KeyError(\"`Vp` key not found\")\n",
    "            try:\n",
    "                vs_list.append(val[\"Vs\"])\n",
    "            except:\n",
    "                KeyError(\"`Vs` key not found\")\n",
    "            try:\n",
    "                rho_list.append(val[\"Rho\"])\n",
    "            except:\n",
    "                KeyError(\"`Rho` key not found\")\n",
    "        return np.array(depth_list), np.array(vp_list), np.array(vs_list), np.array(rho_list)\n",
    "    \n",
    "    def create_model_list(self):\n",
    "        if self._model_list is None:\n",
    "            self._model_list = {}\n",
    "        for key, val in self.well_input.items():\n",
    "            # error prone\n",
    "            temp_params = dict(**val, **self.model_dictionary[key][\"parameters\"])\n",
    "            temp_model = self.model_dictionary[key][\"model\"]\n",
    "            # print(\"why?\")\n",
    "            try:\n",
    "                init_model = manRP.models(identifier= temp_model, **temp_params)\n",
    "            except:\n",
    "                raise ValueError(\"model not found\")\n",
    "            self._model_list[key] = init_model\n",
    "\n",
    "    @property\n",
    "    def model_list(self):\n",
    "        if self._model_list is None:\n",
    "            self.create_model_list()\n",
    "        return self._model_list\n",
    "    \n",
    "    def to_aij_density(self):\n",
    "        result = {}\n",
    "        for i, m in self.model_list.items():\n",
    "            if m.__repr__()== \"Generic Rock Physics Model\":\n",
    "                result[i] = {'aij': m.Cij()/self.rho_list[i]*10**6, 'rho': self.rho_list[i]*1000, 'tau_eps_d': 1, 'tau_eps_s': 1, 'tau_sig_d': 1, 'tau_sig_s': 1}\n",
    "            elif m.__repr__()== \"Standard Linear Solid Rock Physics Model\":\n",
    "                result[i] = {'aij': m.high_freq_cij/self.rho_list[i]*10**6, 'rho': self.rho_list[i]*1000, 'tau_eps_d': m.tau1, 'tau_eps_s': m.tau1, 'tau_sig_d': m.tau2, 'tau_sig_s': m.tau2}\n",
    "            else:\n",
    "                raise ValueError(\"model not supported yet, check back later\")\n",
    "        return result\n",
    "    \n",
    "    def gaussian_smoothing(self, size:int, sigma:float)->Callable:\n",
    "        def gf(x, sig): return (1 / (np.sqrt(2 * np.pi * sigma**2))) * np.exp(-(x**2) / (2 * sigma**2))\n",
    "        zero_centred = np.arange(-(size // 2), (size // 2) + 1)\n",
    "        g_filter = gf(zero_centred, sigma)\n",
    "        g_filter /= np.sum(g_filter) # for normalisation, maybe peak being 1 is better?\n",
    "        return lambda x: np.convolve(x, g_filter, mode='same')\n",
    "\n",
    "    def create_modelling_grids(self, *, n_x_grid_points:int=2001, n_z_grid_points:int=1126, dx:int=2, dz:int=2, offset:float = 500., smoothing_function:Callable|None=None) -> dict:\n",
    "        \"\"\"\n",
    "        creates a dictionary of grids for finite difference modelling\n",
    "\n",
    "        evaluates the well inputs at the specified vertical grid points and extents laterally to a 1D model\n",
    "\n",
    "        Keyword Args:\n",
    "            n_x_grid_points (int, optional): _description_. Defaults to 2001.\n",
    "            n_z_grid_points (int, optional): _description_. Defaults to 1126.\n",
    "            dx (int, optional): _description_. Defaults to 2.\n",
    "            dz (int, optional): _description_. Defaults to 2.\n",
    "            offset (float, optional): _description_. Defaults to 500..\n",
    "            smoothing_function (Callable | None, optional): _description_. Defaults to None.\n",
    "\n",
    "        Returns:\n",
    "            dict: a dict whose labels are grid names and values are the gridded data\n",
    "        \"\"\"\n",
    "        vertical = dz*np.arange(n_z_grid_points)\n",
    "        aij_array = np.zeros((n_z_grid_points, 6, 6), dtype=float)\n",
    "        rho_array, tau_eps_d_array, tau_eps_s_array, tau_sig_d_array, tau_sig_s_array = tuple(np.zeros((n_z_grid_points), dtype=float) for i in range(5))\n",
    "        dl = self.depth_list\n",
    "        well_dictionary = self.to_aij_density()\n",
    "        for i, depth in enumerate(dl):\n",
    "            if i==0:\n",
    "                index = (depth<=vertical)\n",
    "            elif i==len(dl)-1:\n",
    "                index = (depth<=vertical-offset)\n",
    "            else:\n",
    "                index = (depth<=vertical-offset) & (vertical-offset<dl[i+1])\n",
    "            \n",
    "            aij_array[index] = well_dictionary[i]['aij']\n",
    "            rho_array[index] = well_dictionary[i]['rho']\n",
    "            tau_eps_d_array[index] = well_dictionary[i]['tau_eps_d']\n",
    "            tau_eps_s_array[index] = well_dictionary[i]['tau_eps_s']\n",
    "            tau_sig_d_array[index] = well_dictionary[i]['tau_sig_d']\n",
    "            tau_sig_s_array[index] = well_dictionary[i]['tau_sig_s']\n",
    "\n",
    "        # to implement smoothing add some sort of line:\n",
    "        # try:\n",
    "        #   smoothing_function(aij_array)\n",
    "        # except:\n",
    "        #   raise ValueError(\"smoothing_function not callable\")\n",
    "\n",
    "        # to repeat values along the x axis, n_x_grid_points times\n",
    "        def tile_x(x): return np.tile(x, (n_x_grid_points, 1)).T\n",
    "\n",
    "        # repeat the values along x for each of the indices in the dictionary\n",
    "        result = {key:tile_x(aij_array[:,value[0], value[1]])  for key, value in FiniteDifferenceGridFromRockPhysicsModels.indices.items()}\n",
    "        \n",
    "        density_tau_dictionary = {\"density\": rho_array, \"tau_eps_d\": tau_eps_d_array, \"tau_eps_s\": tau_eps_s_array, \"tau_sig_d\": tau_sig_d_array, \"tau_sig_s\": tau_sig_s_array}\n",
    "        for key, value in density_tau_dictionary.items():\n",
    "            result[key] = tile_x(value)\n",
    "        for key, value in result.items():\n",
    "            if value.shape != (n_z_grid_points, n_x_grid_points):\n",
    "                raise ValueError(f\"shape of {key} is {value.shape}, not {(n_x_grid_points, n_z_grid_points)}\")\n",
    "        return result\n",
    "\n",
    "    def save_modelling_grids(self, *, output_folder:str|None =None, **kwargs)->None:\n",
    "        \"\"\"\n",
    "        save_modelling_grids saves the individual grids to files in a specified folder\n",
    "\n",
    "        Keyword Args:\n",
    "            output_folder (str | None, optional): _description_. Defaults to None.\n",
    "            n_x_grid_points (int, optional): _description_. Defaults to 2001.\n",
    "            n_z_grid_points (int, optional): _description_. Defaults to 1126.\n",
    "            dx (int, optional): _description_. Defaults to 2.\n",
    "            dz (int, optional): _description_. Defaults to 2.\n",
    "            offset (float, optional): _description_. Defaults to 500..\n",
    "            smoothing_function (Callable | None, optional): _description_. Defaults to None.   \n",
    "        \"\"\"\n",
    "        if output_folder is None:\n",
    "            Warning(f\"output_folder not specified, using {self.label}_output in current directory \")\n",
    "            output_folder = f\"./{self.label}_output\"\n",
    "        if not os.path.exists(output_folder):\n",
    "            print(f\"creating folder {output_folder}\")\n",
    "            os.makedirs(output_folder)\n",
    "        grids = self.create_modelling_grids(**kwargs)\n",
    "        for key, value in grids.items():\n",
    "            value.tofile(f\"{output_folder}/{key}.bin\")"
   ]
  },
  {
   "cell_type": "markdown",
   "metadata": {},
   "source": [
    "### Usage"
   ]
  },
  {
   "cell_type": "markdown",
   "metadata": {},
   "source": [
    "first load some data from well log inputs"
   ]
  },
  {
   "cell_type": "code",
   "execution_count": 54,
   "metadata": {},
   "outputs": [],
   "source": [
    "with open('./input_data/balgonie_dataset.bin','rb') as f:\n",
    "    depth = np.fromfile(f,dtype=np.dtype('int32'),count=1)[0]\n",
    "    dims = np.fromfile(f,dtype=np.dtype('int32'),count=depth)\n",
    "    total_elements = (lambda x,y:x*y)(*dims)\n",
    "    data =np.reshape(np.fromfile(f,dtype=np.dtype('float64'), count=total_elements),dims)\n",
    "\n",
    "\n",
    "log_input = {i+1:{\"Top Depth\":-dat[0], \"Vp\":np.round(dat[1],2), \"Vs\":np.round(dat[2],2), \"Rho\":np.round(dat[3],2)}for i, dat in enumerate(data)}\n",
    "log_input[0] = {\"Top Depth\":0, \"Vp\":log_input[1][\"Vp\"], \"Vs\":log_input[1][\"Vs\"], \"Rho\":log_input[1][\"Rho\"]}"
   ]
  },
  {
   "cell_type": "markdown",
   "metadata": {},
   "source": [
    "Then create a model input. For the moment this is constrained to `generic` (which leaves the inputs unchanged), and `sls`. To extend this for other models in the library, mark's fitting function needs to be incorporated in `FiniteDifferenceGridFromRockPhysicsModels`."
   ]
  },
  {
   "cell_type": "code",
   "execution_count": 55,
   "metadata": {},
   "outputs": [],
   "source": [
    "balgonie_baseline_models = {\n",
    "        index:{'model':'generic', 'parameters':{}} for index, _ in enumerate(log_input.keys())\n",
    "    }\n",
    "balgonie_forward_models = balgonie_baseline_models.copy()\n",
    "balgonie_forward_models[25] = {'model': 'sls', 'parameters':{\"Q_sls\":100, \"Log_omega_ref\":np.log10(35)}}\n",
    "baseline = FiniteDifferenceGridFromRockPhysicsModels(well_input = log_input, mod_dictionary=balgonie_baseline_models, label=\"baseline\")\n",
    "forward = FiniteDifferenceGridFromRockPhysicsModels(well_input = log_input, mod_dictionary=balgonie_forward_models, label=\"forward\")"
   ]
  },
  {
   "cell_type": "markdown",
   "metadata": {},
   "source": [
    "To create a grid, we use `.create_modelling_grids()` method."
   ]
  },
  {
   "cell_type": "code",
   "execution_count": 56,
   "metadata": {},
   "outputs": [
    {
     "name": "stdout",
     "output_type": "stream",
     "text": [
      "\u001b[0;31mSignature:\u001b[0m\n",
      "\u001b[0mFiniteDifferenceGridFromRockPhysicsModels\u001b[0m\u001b[0;34m.\u001b[0m\u001b[0mcreate_modelling_grids\u001b[0m\u001b[0;34m(\u001b[0m\u001b[0;34m\u001b[0m\n",
      "\u001b[0;34m\u001b[0m    \u001b[0mself\u001b[0m\u001b[0;34m,\u001b[0m\u001b[0;34m\u001b[0m\n",
      "\u001b[0;34m\u001b[0m    \u001b[0;34m*\u001b[0m\u001b[0;34m,\u001b[0m\u001b[0;34m\u001b[0m\n",
      "\u001b[0;34m\u001b[0m    \u001b[0mn_x_grid_points\u001b[0m\u001b[0;34m:\u001b[0m \u001b[0;34m'int'\u001b[0m \u001b[0;34m=\u001b[0m \u001b[0;36m2001\u001b[0m\u001b[0;34m,\u001b[0m\u001b[0;34m\u001b[0m\n",
      "\u001b[0;34m\u001b[0m    \u001b[0mn_z_grid_points\u001b[0m\u001b[0;34m:\u001b[0m \u001b[0;34m'int'\u001b[0m \u001b[0;34m=\u001b[0m \u001b[0;36m1126\u001b[0m\u001b[0;34m,\u001b[0m\u001b[0;34m\u001b[0m\n",
      "\u001b[0;34m\u001b[0m    \u001b[0mdx\u001b[0m\u001b[0;34m:\u001b[0m \u001b[0;34m'int'\u001b[0m \u001b[0;34m=\u001b[0m \u001b[0;36m2\u001b[0m\u001b[0;34m,\u001b[0m\u001b[0;34m\u001b[0m\n",
      "\u001b[0;34m\u001b[0m    \u001b[0mdz\u001b[0m\u001b[0;34m:\u001b[0m \u001b[0;34m'int'\u001b[0m \u001b[0;34m=\u001b[0m \u001b[0;36m2\u001b[0m\u001b[0;34m,\u001b[0m\u001b[0;34m\u001b[0m\n",
      "\u001b[0;34m\u001b[0m    \u001b[0moffset\u001b[0m\u001b[0;34m:\u001b[0m \u001b[0;34m'float'\u001b[0m \u001b[0;34m=\u001b[0m \u001b[0;36m500.0\u001b[0m\u001b[0;34m,\u001b[0m\u001b[0;34m\u001b[0m\n",
      "\u001b[0;34m\u001b[0m    \u001b[0msmoothing_function\u001b[0m\u001b[0;34m:\u001b[0m \u001b[0;34m'Callable | None'\u001b[0m \u001b[0;34m=\u001b[0m \u001b[0;32mNone\u001b[0m\u001b[0;34m,\u001b[0m\u001b[0;34m\u001b[0m\n",
      "\u001b[0;34m\u001b[0m\u001b[0;34m)\u001b[0m \u001b[0;34m->\u001b[0m \u001b[0;34m'dict'\u001b[0m\u001b[0;34m\u001b[0m\u001b[0;34m\u001b[0m\u001b[0m\n",
      "\u001b[0;31mDocstring:\u001b[0m\n",
      "creates a dictionary of grids for finite difference modelling\n",
      "\n",
      "evaluates the well inputs at the specified vertical grid points and extents laterally to a 1D model\n",
      "\n",
      "Keyword Args:\n",
      "    n_x_grid_points (int, optional): _description_. Defaults to 2001.\n",
      "    n_z_grid_points (int, optional): _description_. Defaults to 1126.\n",
      "    dx (int, optional): _description_. Defaults to 2.\n",
      "    dz (int, optional): _description_. Defaults to 2.\n",
      "    offset (float, optional): _description_. Defaults to 500..\n",
      "    smoothing_function (Callable | None, optional): _description_. Defaults to None.\n",
      "\n",
      "Returns:\n",
      "    dict: a dict whose labels are grid names and values are the gridded data\n",
      "\u001b[0;31mFile:\u001b[0m      /var/folders/sn/s_st53_16dl9zzjkw462jzlc0000gn/T/ipykernel_3419/3532751213.py\n",
      "\u001b[0;31mType:\u001b[0m      function"
     ]
    }
   ],
   "source": [
    "?FiniteDifferenceGridFromRockPhysicsModels.create_modelling_grids"
   ]
  },
  {
   "cell_type": "markdown",
   "metadata": {},
   "source": [
    "For example"
   ]
  },
  {
   "cell_type": "code",
   "execution_count": 50,
   "metadata": {},
   "outputs": [],
   "source": [
    "vp = np.sqrt(forward.create_modelling_grids(offset = 500)[\"a11\"]) # adds 500m to the top depth (default)\n",
    "unshifted_vp = np.sqrt(baseline.create_modelling_grids(n_z_grid_points=2001)[\"a11\"]) # changes z resolution"
   ]
  },
  {
   "cell_type": "code",
   "execution_count": 51,
   "metadata": {},
   "outputs": [
    {
     "data": {
      "image/png": "[encoded data removed]",
      "text/plain": [
       "<Figure size 640x480 with 2 Axes>"
      ]
     },
     "metadata": {},
     "output_type": "display_data"
    }
   ],
   "source": [
    "plt.imshow(vp, extent=[0,4000,2250,0], cmap='terrain', aspect=\"auto\")\n",
    "plt.colorbar()\n",
    "plt.show()"
   ]
  },
  {
   "cell_type": "code",
   "execution_count": 52,
   "metadata": {},
   "outputs": [
    {
     "data": {
      "image/png": "[encoded data removed]",
      "text/plain": [
       "<Figure size 640x480 with 2 Axes>"
      ]
     },
     "metadata": {},
     "output_type": "display_data"
    }
   ],
   "source": [
    "plt.imshow(unshifted_vp, extent=[0,4000,4000,0], cmap='terrain', aspect=\"auto\")\n",
    "plt.colorbar()\n",
    "plt.show()"
   ]
  },
  {
   "cell_type": "markdown",
   "metadata": {},
   "source": [
    "To save the grids, to an output folder, use `.save_modelling_grids()` method"
   ]
  },
  {
   "cell_type": "code",
   "execution_count": 57,
   "metadata": {},
   "outputs": [],
   "source": [
    "# these generate grid files with defaults\n",
    "forward.save_modelling_grids() \n",
    "baseline.save_modelling_grids()"
   ]
  }
 ],
 "metadata": {
  "kernelspec": {
   "display_name": "mantis_finite_difference",
   "language": "python",
   "name": "python3"
  },
  "language_info": {
   "codemirror_mode": {
    "name": "ipython",
    "version": 3
   },
   "file_extension": ".py",
   "mimetype": "text/x-python",
   "name": "python",
   "nbconvert_exporter": "python",
   "pygments_lexer": "ipython3",
   "version": "3.9.18"
  },
  "orig_nbformat": 4
 },
 "nbformat": 4,
 "nbformat_minor": 2
}
